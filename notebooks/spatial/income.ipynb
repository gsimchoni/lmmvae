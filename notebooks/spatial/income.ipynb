{
 "cells": [
  {
   "cell_type": "code",
   "execution_count": 1,
   "metadata": {},
   "outputs": [],
   "source": [
    "import os\n",
    "import sys\n",
    "module_path = os.path.abspath(os.path.join('../..'))\n",
    "if module_path not in sys.path:\n",
    "    sys.path.append(module_path)"
   ]
  },
  {
   "cell_type": "code",
   "execution_count": 2,
   "metadata": {},
   "outputs": [],
   "source": [
    "import numpy as np\n",
    "import pandas as pd\n",
    "from scipy.spatial.distance import pdist, squareform\n",
    "\n",
    "from sklearn.model_selection import KFold\n",
    "from sklearn.preprocessing import StandardScaler\n",
    "\n",
    "from lmmvae.dim_reduction import run_dim_reduction\n",
    "from lmmvae.simulation import Count\n",
    "from lmmvae.utils import get_dummies, get_posterior_b_root"
   ]
  },
  {
   "cell_type": "code",
   "execution_count": 3,
   "metadata": {},
   "outputs": [],
   "source": [
    "census = pd.read_csv('../../data/uscensus_df.csv')"
   ]
  },
  {
   "cell_type": "code",
   "execution_count": 4,
   "metadata": {},
   "outputs": [
    {
     "name": "stdout",
     "output_type": "stream",
     "text": [
      "(71371, 34)\n"
     ]
    },
    {
     "data": {
      "text/html": [
       "<div>\n",
       "<style scoped>\n",
       "    .dataframe tbody tr th:only-of-type {\n",
       "        vertical-align: middle;\n",
       "    }\n",
       "\n",
       "    .dataframe tbody tr th {\n",
       "        vertical-align: top;\n",
       "    }\n",
       "\n",
       "    .dataframe thead th {\n",
       "        text-align: right;\n",
       "    }\n",
       "</style>\n",
       "<table border=\"1\" class=\"dataframe\">\n",
       "  <thead>\n",
       "    <tr style=\"text-align: right;\">\n",
       "      <th></th>\n",
       "      <th>total_pop</th>\n",
       "      <th>men</th>\n",
       "      <th>women</th>\n",
       "      <th>hispanic</th>\n",
       "      <th>white</th>\n",
       "      <th>black</th>\n",
       "      <th>native</th>\n",
       "      <th>asian</th>\n",
       "      <th>pacific</th>\n",
       "      <th>voting_age_citizen</th>\n",
       "      <th>...</th>\n",
       "      <th>mean_commute</th>\n",
       "      <th>employed</th>\n",
       "      <th>private_work</th>\n",
       "      <th>public_work</th>\n",
       "      <th>self_employed</th>\n",
       "      <th>family_work</th>\n",
       "      <th>unemployment</th>\n",
       "      <th>lat</th>\n",
       "      <th>long</th>\n",
       "      <th>location_id</th>\n",
       "    </tr>\n",
       "  </thead>\n",
       "  <tbody>\n",
       "    <tr>\n",
       "      <th>0</th>\n",
       "      <td>7.520235</td>\n",
       "      <td>0.487263</td>\n",
       "      <td>0.512737</td>\n",
       "      <td>0.024</td>\n",
       "      <td>0.863</td>\n",
       "      <td>0.052</td>\n",
       "      <td>0.000</td>\n",
       "      <td>0.012</td>\n",
       "      <td>0.000</td>\n",
       "      <td>0.762602</td>\n",
       "      <td>...</td>\n",
       "      <td>0.245</td>\n",
       "      <td>0.477507</td>\n",
       "      <td>0.742</td>\n",
       "      <td>0.212</td>\n",
       "      <td>0.045</td>\n",
       "      <td>0.000</td>\n",
       "      <td>0.046</td>\n",
       "      <td>-3.8586</td>\n",
       "      <td>3.272735</td>\n",
       "      <td>424</td>\n",
       "    </tr>\n",
       "    <tr>\n",
       "      <th>1</th>\n",
       "      <td>7.683404</td>\n",
       "      <td>0.537293</td>\n",
       "      <td>0.462707</td>\n",
       "      <td>0.011</td>\n",
       "      <td>0.416</td>\n",
       "      <td>0.545</td>\n",
       "      <td>0.000</td>\n",
       "      <td>0.010</td>\n",
       "      <td>0.000</td>\n",
       "      <td>0.760589</td>\n",
       "      <td>...</td>\n",
       "      <td>0.222</td>\n",
       "      <td>0.392265</td>\n",
       "      <td>0.759</td>\n",
       "      <td>0.150</td>\n",
       "      <td>0.090</td>\n",
       "      <td>0.000</td>\n",
       "      <td>0.034</td>\n",
       "      <td>-3.8586</td>\n",
       "      <td>3.272735</td>\n",
       "      <td>424</td>\n",
       "    </tr>\n",
       "    <tr>\n",
       "      <th>2</th>\n",
       "      <td>8.127109</td>\n",
       "      <td>0.452880</td>\n",
       "      <td>0.547120</td>\n",
       "      <td>0.080</td>\n",
       "      <td>0.614</td>\n",
       "      <td>0.265</td>\n",
       "      <td>0.006</td>\n",
       "      <td>0.007</td>\n",
       "      <td>0.004</td>\n",
       "      <td>0.732644</td>\n",
       "      <td>...</td>\n",
       "      <td>0.231</td>\n",
       "      <td>0.437814</td>\n",
       "      <td>0.733</td>\n",
       "      <td>0.211</td>\n",
       "      <td>0.048</td>\n",
       "      <td>0.007</td>\n",
       "      <td>0.047</td>\n",
       "      <td>-3.8586</td>\n",
       "      <td>3.272735</td>\n",
       "      <td>424</td>\n",
       "    </tr>\n",
       "    <tr>\n",
       "      <th>3</th>\n",
       "      <td>8.358666</td>\n",
       "      <td>0.468948</td>\n",
       "      <td>0.531052</td>\n",
       "      <td>0.096</td>\n",
       "      <td>0.803</td>\n",
       "      <td>0.071</td>\n",
       "      <td>0.005</td>\n",
       "      <td>0.002</td>\n",
       "      <td>0.000</td>\n",
       "      <td>0.763300</td>\n",
       "      <td>...</td>\n",
       "      <td>0.259</td>\n",
       "      <td>0.433326</td>\n",
       "      <td>0.758</td>\n",
       "      <td>0.197</td>\n",
       "      <td>0.045</td>\n",
       "      <td>0.000</td>\n",
       "      <td>0.061</td>\n",
       "      <td>-3.8586</td>\n",
       "      <td>3.272735</td>\n",
       "      <td>424</td>\n",
       "    </tr>\n",
       "    <tr>\n",
       "      <th>4</th>\n",
       "      <td>9.206834</td>\n",
       "      <td>0.507175</td>\n",
       "      <td>0.492825</td>\n",
       "      <td>0.009</td>\n",
       "      <td>0.775</td>\n",
       "      <td>0.164</td>\n",
       "      <td>0.000</td>\n",
       "      <td>0.031</td>\n",
       "      <td>0.000</td>\n",
       "      <td>0.725439</td>\n",
       "      <td>...</td>\n",
       "      <td>0.210</td>\n",
       "      <td>0.480381</td>\n",
       "      <td>0.714</td>\n",
       "      <td>0.241</td>\n",
       "      <td>0.045</td>\n",
       "      <td>0.000</td>\n",
       "      <td>0.023</td>\n",
       "      <td>-3.8586</td>\n",
       "      <td>3.272735</td>\n",
       "      <td>424</td>\n",
       "    </tr>\n",
       "  </tbody>\n",
       "</table>\n",
       "<p>5 rows × 34 columns</p>\n",
       "</div>"
      ],
      "text/plain": [
       "   total_pop       men     women  hispanic  white  black  native  asian  \\\n",
       "0   7.520235  0.487263  0.512737     0.024  0.863  0.052   0.000  0.012   \n",
       "1   7.683404  0.537293  0.462707     0.011  0.416  0.545   0.000  0.010   \n",
       "2   8.127109  0.452880  0.547120     0.080  0.614  0.265   0.006  0.007   \n",
       "3   8.358666  0.468948  0.531052     0.096  0.803  0.071   0.005  0.002   \n",
       "4   9.206834  0.507175  0.492825     0.009  0.775  0.164   0.000  0.031   \n",
       "\n",
       "   pacific  voting_age_citizen  ...  mean_commute  employed  private_work  \\\n",
       "0    0.000            0.762602  ...         0.245  0.477507         0.742   \n",
       "1    0.000            0.760589  ...         0.222  0.392265         0.759   \n",
       "2    0.004            0.732644  ...         0.231  0.437814         0.733   \n",
       "3    0.000            0.763300  ...         0.259  0.433326         0.758   \n",
       "4    0.000            0.725439  ...         0.210  0.480381         0.714   \n",
       "\n",
       "   public_work  self_employed  family_work  unemployment     lat      long  \\\n",
       "0        0.212          0.045        0.000         0.046 -3.8586  3.272735   \n",
       "1        0.150          0.090        0.000         0.034 -3.8586  3.272735   \n",
       "2        0.211          0.048        0.007         0.047 -3.8586  3.272735   \n",
       "3        0.197          0.045        0.000         0.061 -3.8586  3.272735   \n",
       "4        0.241          0.045        0.000         0.023 -3.8586  3.272735   \n",
       "\n",
       "   location_id  \n",
       "0          424  \n",
       "1          424  \n",
       "2          424  \n",
       "3          424  \n",
       "4          424  \n",
       "\n",
       "[5 rows x 34 columns]"
      ]
     },
     "execution_count": 4,
     "metadata": {},
     "output_type": "execute_result"
    }
   ],
   "source": [
    "print(census.shape)\n",
    "census.head()"
   ]
  },
  {
   "cell_type": "code",
   "execution_count": 5,
   "metadata": {},
   "outputs": [
    {
     "data": {
      "text/plain": [
       "array([[  0.        , -10.        ,   5.23002823],\n",
       "       [  1.        ,  -9.74535322,   5.42403737],\n",
       "       [  2.        ,  -9.32361758,   5.14619821],\n",
       "       [  3.        ,  -9.3042758 ,  -0.5750098 ],\n",
       "       [  4.        ,  -9.2882231 ,   5.45063069]])"
      ]
     },
     "execution_count": 5,
     "metadata": {},
     "output_type": "execute_result"
    }
   ],
   "source": [
    "# computing the kernel matrix once\n",
    "coords = census.groupby(['location_id','lat', 'long']).size().index.to_frame().values\n",
    "coords[:5]"
   ]
  },
  {
   "cell_type": "code",
   "execution_count": 6,
   "metadata": {},
   "outputs": [
    {
     "data": {
      "text/plain": [
       "(3108, 3108)"
      ]
     },
     "execution_count": 6,
     "metadata": {},
     "output_type": "execute_result"
    }
   ],
   "source": [
    "dist_matrix = squareform(pdist(coords[:,1:])) ** 2\n",
    "dist_matrix.shape"
   ]
  },
  {
   "cell_type": "code",
   "execution_count": 7,
   "metadata": {},
   "outputs": [],
   "source": [
    "# spatial features name change\n",
    "census.rename({'lat': 'D1', 'long': 'D2', 'location_id': 'z0'}, axis=1, inplace=True)"
   ]
  },
  {
   "cell_type": "code",
   "execution_count": 8,
   "metadata": {},
   "outputs": [],
   "source": [
    "X = census.drop('income', axis=1)"
   ]
  },
  {
   "cell_type": "code",
   "execution_count": 9,
   "metadata": {},
   "outputs": [
    {
     "data": {
      "text/plain": [
       "Index(['total_pop', 'men', 'women', 'hispanic', 'white', 'black', 'native',\n",
       "       'asian', 'pacific', 'voting_age_citizen', 'poverty', 'child_poverty',\n",
       "       'professional', 'service', 'office', 'construction', 'production',\n",
       "       'drive', 'carpool', 'transit', 'walk', 'other_transp', 'work_at_home',\n",
       "       'mean_commute', 'employed', 'private_work', 'public_work',\n",
       "       'self_employed', 'family_work', 'unemployment', 'D1', 'D2', 'z0'],\n",
       "      dtype='object')"
      ]
     },
     "execution_count": 9,
     "metadata": {},
     "output_type": "execute_result"
    }
   ],
   "source": [
    "# special features: t for longitudinal, D1 and D2 for spatial (longitude, latitude)\n",
    "new_cols = [col for col in X.columns if col not in ['D1', 'D2', 'z0']] + ['D1', 'D2', 'z0']\n",
    "X = X[new_cols]\n",
    "X.columns"
   ]
  },
  {
   "cell_type": "code",
   "execution_count": 10,
   "metadata": {},
   "outputs": [],
   "source": [
    "# params for LMMVAE and other methods, some unnecessary for current use-case therefore are none\n",
    "mode = 'spatial2'\n",
    "n_sig2bs = 0 # no categorical features\n",
    "n_sig2bs_spatial = 2\n",
    "n_neurons = [1000, 500]\n",
    "dropout = None\n",
    "activation = 'relu'\n",
    "RE_cols_prefix = 'z'\n",
    "thresh = None\n",
    "epochs = 200\n",
    "qs = []\n",
    "q_spatial = len(X['z0'].unique())\n",
    "batch_size = 1000\n",
    "patience = None\n",
    "kernel = np.exp(-dist_matrix / (2 * 1))\n",
    "Z = get_dummies(X['z0'], q_spatial)\n",
    "kernel_root = get_posterior_b_root(kernel, Z, sig2e=1, n=X.shape[0], n_samp=10000)\n",
    "U = None\n",
    "B_list = None\n",
    "est_cors = []\n",
    "n_neurons_re = n_neurons\n",
    "max_spatial_locs = 100\n",
    "time2measure_dict = None\n",
    "pred_unknown_clusters = False # Change for Unknown mode"
   ]
  },
  {
   "cell_type": "code",
   "execution_count": 11,
   "metadata": {},
   "outputs": [],
   "source": [
    "res = pd.DataFrame(columns=['d', 'beta', 're_prior', 'experiment', 'exp_type', 'mse_X', 'sigma_b0_spatial_est', 'n_epoch', 'time'])\n",
    "kf = KFold(n_splits=5, shuffle=True, random_state=40)\n",
    "counter = Count().gen()\n",
    "x_cols = [col for col in X.columns if col not in ['z0']]\n",
    "x_cols_to_scale = [col for col in x_cols if col not in ['D1', 'D2']]"
   ]
  },
  {
   "cell_type": "code",
   "execution_count": 12,
   "metadata": {},
   "outputs": [],
   "source": [
    "def iterate_reg_types(X_train, X_test, counter, d, beta, re_prior, i, verbose):\n",
    "    mse_svgpvae_16_2, _, _, n_epochs_svgpvae_16_2, time_svgpvae_16_2 = run_dim_reduction(X_train, X_test, x_cols, RE_cols_prefix, d, 'svgpvae-10-16-2',\n",
    "            thresh, epochs, qs, q_spatial, n_sig2bs, n_sig2bs_spatial, est_cors, batch_size, patience, n_neurons, n_neurons_re, dropout,\n",
    "            activation, mode, beta, re_prior, kernel_root, pred_unknown_clusters, max_spatial_locs, time2measure_dict, verbose, U, B_list)\n",
    "    print('   finished svgpvae_16_2, mse: %.3f' % mse_svgpvae_16_2)\n",
    "    mse_lmmvae, sigmas, _, n_epochs_lmmvae, time_lmmvae = run_dim_reduction(X_train, X_test, x_cols, RE_cols_prefix, d, 'lmmvae',\n",
    "            thresh, epochs, qs, q_spatial, n_sig2bs, n_sig2bs_spatial, est_cors, batch_size, patience, n_neurons, n_neurons_re, dropout,\n",
    "            activation, mode, beta, re_prior, kernel_root, pred_unknown_clusters, max_spatial_locs, time2measure_dict, verbose, U, B_list)\n",
    "    print('   finished lmmvae, mse: %.3f' % mse_lmmvae)\n",
    "    mse_lmmvae_sfc, sigmas_sfc, _, n_epochs_lmmvae_sfc, time_lmmvae_sfc = run_dim_reduction(X_train, X_test, x_cols, RE_cols_prefix, d, 'lmmvae-sfc',\n",
    "            thresh, epochs, qs, q_spatial, n_sig2bs, n_sig2bs_spatial, est_cors, batch_size, patience, n_neurons, n_neurons_re, dropout,\n",
    "            activation, mode, beta, re_prior, kernel_root, pred_unknown_clusters, max_spatial_locs, time2measure_dict, verbose, U, B_list)\n",
    "    print('   finished lmmvae-sfc, mse: %.3f' % mse_lmmvae_sfc)\n",
    "    mse_ig, _, _, n_epochs_ig, time_ig = run_dim_reduction(X_train, X_test, x_cols, RE_cols_prefix, d, 'pca-ignore',\n",
    "            thresh, epochs, qs, q_spatial, n_sig2bs, n_sig2bs_spatial, est_cors, batch_size, patience, n_neurons, n_neurons_re, dropout,\n",
    "            activation, mode, beta, re_prior, kernel_root, pred_unknown_clusters, max_spatial_locs, time2measure_dict, verbose, U, B_list)\n",
    "    print('   finished pca-ignore, mse: %.3f' % mse_ig)\n",
    "    mse_ohe, _, _, n_epochs_ohe, time_ohe = run_dim_reduction(X_train, X_test, x_cols, RE_cols_prefix, d, 'pca-ohe',\n",
    "            thresh, epochs, qs, q_spatial, n_sig2bs, n_sig2bs_spatial, est_cors, batch_size, patience, n_neurons, n_neurons_re, dropout,\n",
    "            activation, mode, beta, re_prior, kernel_root, pred_unknown_clusters, max_spatial_locs, time2measure_dict, verbose, U, B_list)\n",
    "    print('   finished pca-ohe, mse: %.3f' % mse_ohe)\n",
    "    mse_vaeig, _, _, n_epochs_vaeig, time_vaeig = run_dim_reduction(X_train, X_test, x_cols, RE_cols_prefix, d, 'vae-ignore',\n",
    "            thresh, epochs, qs, q_spatial, n_sig2bs, n_sig2bs_spatial, est_cors, batch_size, patience, n_neurons, n_neurons_re, dropout,\n",
    "            activation, mode, beta, re_prior, kernel_root, pred_unknown_clusters, max_spatial_locs, time2measure_dict, verbose, U, B_list)\n",
    "    print('   finished vae-ignore, mse: %.3f' % mse_vaeig)\n",
    "    mse_vaeohe, _, _, n_epochs_vaeohe, time_vaeohe = run_dim_reduction(X_train, X_test, x_cols, RE_cols_prefix, d, 'vae-ohe',\n",
    "            thresh, epochs, qs, q_spatial, n_sig2bs, n_sig2bs_spatial, est_cors, batch_size, patience, n_neurons, n_neurons_re, dropout,\n",
    "            activation, mode, beta, re_prior, kernel_root, pred_unknown_clusters, max_spatial_locs, time2measure_dict, verbose, U, B_list)\n",
    "    print('   finished vae-ohe, mse: %.3f' % mse_vaeohe)\n",
    "    mse_vaeem, _, _, n_epochs_vaeem, time_vaeem = run_dim_reduction(X_train, X_test, x_cols, RE_cols_prefix, d, 'vae-embed',\n",
    "            thresh, epochs, qs, q_spatial, n_sig2bs, n_sig2bs_spatial, est_cors, batch_size, patience, n_neurons, n_neurons_re, dropout,\n",
    "            activation, mode, beta, re_prior, kernel_root, pred_unknown_clusters, max_spatial_locs, time2measure_dict, verbose, U, B_list)\n",
    "    print('   finished vae-embed, mse: %.3f' % mse_vaeem)\n",
    "    res.loc[next(counter)] = [d, beta, re_prior, i, 'svgpvae_16_2', mse_svgpvae_16_2, np.nan, n_epochs_svgpvae_16_2, time_svgpvae_16_2]\n",
    "    res.loc[next(counter)] = [d, beta, re_prior, i, 'lmmvae', mse_lmmvae, sigmas[2][0], n_epochs_lmmvae, time_lmmvae]\n",
    "    res.loc[next(counter)] = [d, beta, re_prior, i, 'lmmvae-sfc', mse_lmmvae_sfc, sigmas_sfc[2][0], n_epochs_lmmvae_sfc, time_lmmvae_sfc]\n",
    "    res.loc[next(counter)] = [d, beta, re_prior, i, 'pca-ignore', mse_ig, np.nan, n_epochs_ig, time_ig]\n",
    "    res.loc[next(counter)] = [d, beta, re_prior, i, 'pca-ohe', mse_ohe, np.nan, n_epochs_ohe, time_ohe]\n",
    "    res.loc[next(counter)] = [d, beta, re_prior, i, 'vae-ignore', mse_vaeig, np.nan, n_epochs_vaeig, time_vaeig]\n",
    "    res.loc[next(counter)] = [d, beta, re_prior, i, 'vae-ohe', mse_vaeohe, np.nan, n_epochs_vaeohe, time_vaeohe]\n",
    "    res.loc[next(counter)] = [d, beta, re_prior, i, 'vae-em', mse_vaeem, np.nan, n_epochs_vaeem, time_vaeem]\n",
    "    res.to_csv('res_us_income_random.csv')"
   ]
  },
  {
   "cell_type": "code",
   "execution_count": 13,
   "metadata": {},
   "outputs": [],
   "source": [
    "betas = [0.001]\n",
    "ds = [1, 2, 5]\n",
    "re_priors = [0.001]"
   ]
  },
  {
   "cell_type": "code",
   "execution_count": null,
   "metadata": {},
   "outputs": [],
   "source": [
    "# Unknown mode\n",
    "if pred_unknown_clusters:\n",
    "  for beta in betas:\n",
    "    for d in ds:\n",
    "      for re_prior in re_priors:\n",
    "        print(f'beta: {beta}, d: {d}, re_prior: {re_prior}:')\n",
    "        cluster_q = q_spatial\n",
    "        for i, (train_clusters, test_clusters) in enumerate(kf.split(range(cluster_q))):\n",
    "          print('  iteration %d' % i)\n",
    "          X_train, X_test = X[X['z0'].isin(train_clusters)].copy(), X[X['z0'].isin(test_clusters)].copy()\n",
    "          iterate_reg_types(X_train, X_test, counter, d, beta, re_prior, i, verbose=False)"
   ]
  },
  {
   "cell_type": "code",
   "execution_count": 15,
   "metadata": {},
   "outputs": [],
   "source": [
    "# Random mode\n",
    "for beta in betas:\n",
    "  for d in ds:\n",
    "    for re_prior in re_priors:\n",
    "      print(f'beta: {beta}, d: {d}, re_prior: {re_prior}:')\n",
    "      for i, (train_index, test_index) in enumerate(kf.split(X)):\n",
    "        print('  iteration %d' % i)\n",
    "        X_train, X_test = X.loc[train_index].copy(), X.loc[test_index].copy()\n",
    "        iterate_reg_types(X_train, X_test, counter, d, beta, re_prior, i, verbose=False)"
   ]
  }
 ],
 "metadata": {
  "kernelspec": {
   "display_name": "Python 3",
   "language": "python",
   "name": "python3"
  },
  "language_info": {
   "codemirror_mode": {
    "name": "ipython",
    "version": 3
   },
   "file_extension": ".py",
   "mimetype": "text/x-python",
   "name": "python",
   "nbconvert_exporter": "python",
   "pygments_lexer": "ipython3",
   "version": "3.8.7"
  },
  "orig_nbformat": 4,
  "vscode": {
   "interpreter": {
    "hash": "58232888a71497b14c2600f41783e14bf8a4ed364d880e61f45b8308dbbef17d"
   }
  }
 },
 "nbformat": 4,
 "nbformat_minor": 2
}
