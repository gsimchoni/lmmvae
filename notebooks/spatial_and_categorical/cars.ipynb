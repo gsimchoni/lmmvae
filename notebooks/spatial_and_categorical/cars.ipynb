{
 "cells": [
  {
   "cell_type": "code",
   "execution_count": 1,
   "metadata": {},
   "outputs": [],
   "source": [
    "import os\n",
    "import sys\n",
    "module_path = os.path.abspath(os.path.join('../..'))\n",
    "if module_path not in sys.path:\n",
    "    sys.path.append(module_path)"
   ]
  },
  {
   "cell_type": "code",
   "execution_count": 2,
   "metadata": {},
   "outputs": [],
   "source": [
    "import numpy as np\n",
    "import pandas as pd\n",
    "from scipy.spatial.distance import pdist, squareform\n",
    "\n",
    "from sklearn.model_selection import KFold\n",
    "from sklearn.preprocessing import StandardScaler\n",
    "\n",
    "from lmmvae.dim_reduction import run_dim_reduction\n",
    "from lmmvae.simulation import Count\n",
    "from lmmvae.utils import get_dummies, get_posterior_b_root"
   ]
  },
  {
   "cell_type": "code",
   "execution_count": 3,
   "metadata": {},
   "outputs": [],
   "source": [
    "cars = pd.read_csv('../../data/cars_df5.csv')"
   ]
  },
  {
   "cell_type": "code",
   "execution_count": 4,
   "metadata": {},
   "outputs": [
    {
     "name": "stdout",
     "output_type": "stream",
     "text": [
      "(97729, 78)\n"
     ]
    },
    {
     "data": {
      "text/html": [
       "<div>\n",
       "<style scoped>\n",
       "    .dataframe tbody tr th:only-of-type {\n",
       "        vertical-align: middle;\n",
       "    }\n",
       "\n",
       "    .dataframe tbody tr th {\n",
       "        vertical-align: top;\n",
       "    }\n",
       "\n",
       "    .dataframe thead th {\n",
       "        text-align: right;\n",
       "    }\n",
       "</style>\n",
       "<table border=\"1\" class=\"dataframe\">\n",
       "  <thead>\n",
       "    <tr style=\"text-align: right;\">\n",
       "      <th></th>\n",
       "      <th>price</th>\n",
       "      <th>year</th>\n",
       "      <th>odometer</th>\n",
       "      <th>lat</th>\n",
       "      <th>long</th>\n",
       "      <th>model_id</th>\n",
       "      <th>location_id</th>\n",
       "      <th>manufacturerbmw</th>\n",
       "      <th>manufacturerchevrolet</th>\n",
       "      <th>manufacturerdodge</th>\n",
       "      <th>...</th>\n",
       "      <th>paint_colorcustom</th>\n",
       "      <th>paint_colorgreen</th>\n",
       "      <th>paint_colorgrey</th>\n",
       "      <th>paint_color_na</th>\n",
       "      <th>paint_colororange</th>\n",
       "      <th>paint_colorpurple</th>\n",
       "      <th>paint_colorred</th>\n",
       "      <th>paint_colorsilver</th>\n",
       "      <th>paint_colorwhite</th>\n",
       "      <th>paint_coloryellow</th>\n",
       "    </tr>\n",
       "  </thead>\n",
       "  <tbody>\n",
       "    <tr>\n",
       "      <th>0</th>\n",
       "      <td>33590</td>\n",
       "      <td>0.251077</td>\n",
       "      <td>0.57923</td>\n",
       "      <td>-3.416363</td>\n",
       "      <td>3.749557</td>\n",
       "      <td>12003</td>\n",
       "      <td>1655</td>\n",
       "      <td>0</td>\n",
       "      <td>0</td>\n",
       "      <td>0</td>\n",
       "      <td>...</td>\n",
       "      <td>0</td>\n",
       "      <td>0</td>\n",
       "      <td>0</td>\n",
       "      <td>0</td>\n",
       "      <td>0</td>\n",
       "      <td>0</td>\n",
       "      <td>0</td>\n",
       "      <td>0</td>\n",
       "      <td>1</td>\n",
       "      <td>0</td>\n",
       "    </tr>\n",
       "    <tr>\n",
       "      <th>1</th>\n",
       "      <td>22590</td>\n",
       "      <td>-0.318553</td>\n",
       "      <td>0.71229</td>\n",
       "      <td>-3.416363</td>\n",
       "      <td>3.749557</td>\n",
       "      <td>12239</td>\n",
       "      <td>1655</td>\n",
       "      <td>0</td>\n",
       "      <td>1</td>\n",
       "      <td>0</td>\n",
       "      <td>...</td>\n",
       "      <td>0</td>\n",
       "      <td>0</td>\n",
       "      <td>0</td>\n",
       "      <td>0</td>\n",
       "      <td>0</td>\n",
       "      <td>0</td>\n",
       "      <td>0</td>\n",
       "      <td>0</td>\n",
       "      <td>0</td>\n",
       "      <td>0</td>\n",
       "    </tr>\n",
       "    <tr>\n",
       "      <th>2</th>\n",
       "      <td>39590</td>\n",
       "      <td>1.105521</td>\n",
       "      <td>0.19160</td>\n",
       "      <td>-3.416363</td>\n",
       "      <td>3.749557</td>\n",
       "      <td>12278</td>\n",
       "      <td>1655</td>\n",
       "      <td>0</td>\n",
       "      <td>1</td>\n",
       "      <td>0</td>\n",
       "      <td>...</td>\n",
       "      <td>0</td>\n",
       "      <td>0</td>\n",
       "      <td>0</td>\n",
       "      <td>0</td>\n",
       "      <td>0</td>\n",
       "      <td>0</td>\n",
       "      <td>1</td>\n",
       "      <td>0</td>\n",
       "      <td>0</td>\n",
       "      <td>0</td>\n",
       "    </tr>\n",
       "    <tr>\n",
       "      <th>3</th>\n",
       "      <td>30990</td>\n",
       "      <td>0.678299</td>\n",
       "      <td>0.41124</td>\n",
       "      <td>-3.416363</td>\n",
       "      <td>3.749557</td>\n",
       "      <td>14156</td>\n",
       "      <td>1655</td>\n",
       "      <td>0</td>\n",
       "      <td>0</td>\n",
       "      <td>0</td>\n",
       "      <td>...</td>\n",
       "      <td>0</td>\n",
       "      <td>0</td>\n",
       "      <td>0</td>\n",
       "      <td>0</td>\n",
       "      <td>0</td>\n",
       "      <td>0</td>\n",
       "      <td>1</td>\n",
       "      <td>0</td>\n",
       "      <td>0</td>\n",
       "      <td>0</td>\n",
       "    </tr>\n",
       "    <tr>\n",
       "      <th>4</th>\n",
       "      <td>27990</td>\n",
       "      <td>-0.033738</td>\n",
       "      <td>0.68696</td>\n",
       "      <td>-3.416363</td>\n",
       "      <td>3.749557</td>\n",
       "      <td>12089</td>\n",
       "      <td>1655</td>\n",
       "      <td>0</td>\n",
       "      <td>0</td>\n",
       "      <td>0</td>\n",
       "      <td>...</td>\n",
       "      <td>0</td>\n",
       "      <td>0</td>\n",
       "      <td>0</td>\n",
       "      <td>0</td>\n",
       "      <td>0</td>\n",
       "      <td>0</td>\n",
       "      <td>0</td>\n",
       "      <td>0</td>\n",
       "      <td>0</td>\n",
       "      <td>0</td>\n",
       "    </tr>\n",
       "  </tbody>\n",
       "</table>\n",
       "<p>5 rows × 78 columns</p>\n",
       "</div>"
      ],
      "text/plain": [
       "   price      year  odometer       lat      long  model_id  location_id  \\\n",
       "0  33590  0.251077   0.57923 -3.416363  3.749557     12003         1655   \n",
       "1  22590 -0.318553   0.71229 -3.416363  3.749557     12239         1655   \n",
       "2  39590  1.105521   0.19160 -3.416363  3.749557     12278         1655   \n",
       "3  30990  0.678299   0.41124 -3.416363  3.749557     14156         1655   \n",
       "4  27990 -0.033738   0.68696 -3.416363  3.749557     12089         1655   \n",
       "\n",
       "   manufacturerbmw  manufacturerchevrolet  manufacturerdodge  ...  \\\n",
       "0                0                      0                  0  ...   \n",
       "1                0                      1                  0  ...   \n",
       "2                0                      1                  0  ...   \n",
       "3                0                      0                  0  ...   \n",
       "4                0                      0                  0  ...   \n",
       "\n",
       "   paint_colorcustom  paint_colorgreen  paint_colorgrey  paint_color_na  \\\n",
       "0                  0                 0                0               0   \n",
       "1                  0                 0                0               0   \n",
       "2                  0                 0                0               0   \n",
       "3                  0                 0                0               0   \n",
       "4                  0                 0                0               0   \n",
       "\n",
       "   paint_colororange  paint_colorpurple  paint_colorred  paint_colorsilver  \\\n",
       "0                  0                  0               0                  0   \n",
       "1                  0                  0               0                  0   \n",
       "2                  0                  0               1                  0   \n",
       "3                  0                  0               1                  0   \n",
       "4                  0                  0               0                  0   \n",
       "\n",
       "   paint_colorwhite  paint_coloryellow  \n",
       "0                 1                  0  \n",
       "1                 0                  0  \n",
       "2                 0                  0  \n",
       "3                 0                  0  \n",
       "4                 0                  0  \n",
       "\n",
       "[5 rows x 78 columns]"
      ]
     },
     "execution_count": 4,
     "metadata": {},
     "output_type": "execute_result"
    }
   ],
   "source": [
    "print(cars.shape)\n",
    "cars.head()"
   ]
  },
  {
   "cell_type": "code",
   "execution_count": 5,
   "metadata": {},
   "outputs": [
    {
     "data": {
      "text/plain": [
       "array([[  0.        , -10.        ,   5.05988236],\n",
       "       [  1.        ,  -9.90823057,   5.15626107],\n",
       "       [  2.        ,  -9.62636732,   5.50634257],\n",
       "       [  3.        ,  -9.5698308 ,   5.53539792],\n",
       "       [  4.        ,  -9.17735262,   5.5679966 ]])"
      ]
     },
     "execution_count": 5,
     "metadata": {},
     "output_type": "execute_result"
    }
   ],
   "source": [
    "coords = cars.groupby(['location_id','lat', 'long']).size().index.to_frame().values\n",
    "coords[:5]"
   ]
  },
  {
   "cell_type": "code",
   "execution_count": 6,
   "metadata": {},
   "outputs": [
    {
     "data": {
      "text/plain": [
       "(12235, 12235)"
      ]
     },
     "execution_count": 6,
     "metadata": {},
     "output_type": "execute_result"
    }
   ],
   "source": [
    "dist_matrix = squareform(pdist(coords[:,1:])) ** 2\n",
    "dist_matrix.shape"
   ]
  },
  {
   "cell_type": "code",
   "execution_count": 7,
   "metadata": {},
   "outputs": [],
   "source": [
    "# spatial features name change\n",
    "cars.rename({'lat': 'D1', 'long': 'D2', 'location_id': 'z0', 'model_id': 'z1'}, axis=1, inplace=True)"
   ]
  },
  {
   "cell_type": "code",
   "execution_count": 8,
   "metadata": {},
   "outputs": [],
   "source": [
    "X = cars.drop('price', axis=1)"
   ]
  },
  {
   "cell_type": "code",
   "execution_count": 9,
   "metadata": {},
   "outputs": [
    {
     "data": {
      "text/plain": [
       "Index(['year', 'odometer', 'manufacturerbmw', 'manufacturerchevrolet',\n",
       "       'manufacturerdodge', 'manufacturerford', 'manufacturergmc',\n",
       "       'manufacturerhonda', 'manufacturerjeep', 'manufacturernissan',\n",
       "       'manufacturerother', 'manufacturerram', 'manufacturertoyota',\n",
       "       'conditionexcellent', 'conditionfair', 'conditiongood',\n",
       "       'conditionlike_new', 'condition_na', 'conditionnew', 'conditionsalvage',\n",
       "       'fueldiesel', 'fuelelectric', 'fuelgas', 'fuelhybrid', 'fuel_na',\n",
       "       'fuelother', 'title_statusclean', 'title_statuslien',\n",
       "       'title_statusmissing', 'title_status_na', 'title_statusparts_only',\n",
       "       'title_statusrebuilt', 'title_statussalvage', 'transmissionautomatic',\n",
       "       'transmissionmanual', 'transmission_na', 'transmissionother',\n",
       "       'drive4wd', 'drivefwd', 'drive_na', 'driverwd', 'sizecompact',\n",
       "       'sizefull_size', 'sizemid_size', 'size_na', 'sizesub_compact',\n",
       "       'typebus', 'typeconvertible', 'typecoupe', 'typehatchback',\n",
       "       'typemini_van', 'type_na', 'typeoffroad', 'typeother', 'typepickup',\n",
       "       'typesedan', 'type_suv', 'typetruck', 'typevan', 'typewagon',\n",
       "       'paint_colorblack', 'paint_colorblue', 'paint_colorbrown',\n",
       "       'paint_colorcustom', 'paint_colorgreen', 'paint_colorgrey',\n",
       "       'paint_color_na', 'paint_colororange', 'paint_colorpurple',\n",
       "       'paint_colorred', 'paint_colorsilver', 'paint_colorwhite',\n",
       "       'paint_coloryellow', 'D1', 'D2', 'z0', 'z1'],\n",
       "      dtype='object')"
      ]
     },
     "execution_count": 9,
     "metadata": {},
     "output_type": "execute_result"
    }
   ],
   "source": [
    "# special features: t for longitudinal, D1 and D2 for spatial (longitude, latitude)\n",
    "new_cols = [col for col in X.columns if col not in ['D1', 'D2', 'z0', 'z1']] + ['D1', 'D2', 'z0', 'z1']\n",
    "X = X[new_cols]\n",
    "X.columns"
   ]
  },
  {
   "cell_type": "code",
   "execution_count": 10,
   "metadata": {},
   "outputs": [],
   "source": [
    "# params for LMMVAE and other methods, some unnecessary for current use-case therefore are none\n",
    "mode = 'spatial_and_categorical'\n",
    "n_sig2bs = 1 # one categorical feature (model)\n",
    "n_sig2bs_spatial = 2\n",
    "n_neurons = [1000, 500]\n",
    "dropout = None\n",
    "activation = 'relu'\n",
    "RE_cols_prefix = 'z'\n",
    "thresh = None\n",
    "epochs = 200\n",
    "qs = [len(X['z1'].unique())]\n",
    "q_spatial = len(X['z0'].unique())\n",
    "batch_size = 1000\n",
    "patience = None\n",
    "kernel = np.exp(-dist_matrix / (2 * 1))\n",
    "Z = get_dummies(X['z0'], q_spatial)\n",
    "kernel_root = get_posterior_b_root(kernel, Z, sig2e=1, n=X.shape[0], n_samp=10000)\n",
    "U = None\n",
    "B_list = None\n",
    "est_cors = []\n",
    "n_neurons_re = n_neurons\n",
    "max_spatial_locs = 100\n",
    "time2measure_dict = None\n",
    "pred_unknown_clusters = False # Change for Unknown mode"
   ]
  },
  {
   "cell_type": "code",
   "execution_count": 11,
   "metadata": {},
   "outputs": [],
   "source": [
    "res = pd.DataFrame(columns=['d', 'beta', 're_prior', 'experiment', 'exp_type', 'mse_X', 'sigma_b0_spatial_est', 'n_epoch', 'time',\n",
    "                            'total_loss_tr', 'recon_loss_tr', 'kl_loss_tr', 're_kl_loss_tr', 'total_loss_te',\n",
    "                            'recon_loss_te', 'kl_loss_te', 're_kl_loss_te'])\n",
    "kf = KFold(n_splits=5, shuffle=True, random_state=40)\n",
    "counter = Count().gen()\n",
    "x_cols = [col for col in X.columns if col not in ['z0', 'z1']]\n",
    "x_cols_to_scale = [col for col in x_cols if col not in ['D1', 'D2']]"
   ]
  },
  {
   "cell_type": "code",
   "execution_count": 12,
   "metadata": {},
   "outputs": [],
   "source": [
    "def iterate_reg_types(X_train, X_test, counter, d, beta, re_prior, i, verbose):\n",
    "    mse_lmmvae, sigmas, _, n_epochs_lmmvae, time_lmmvae, losses_lmmvae = run_dim_reduction(X_train, X_test, x_cols, RE_cols_prefix, d, 'lmmvae',\n",
    "            thresh, epochs, qs, q_spatial, n_sig2bs, n_sig2bs_spatial, est_cors, batch_size, patience, n_neurons, n_neurons_re, dropout,\n",
    "            activation, mode, beta, re_prior, kernel_root, pred_unknown_clusters, max_spatial_locs, time2measure_dict, verbose, U, B_list)\n",
    "    print('   finished lmmvae, mse: %.3f' % mse_lmmvae)\n",
    "    mse_ig, _, _, n_epochs_ig, time_ig, losses_ig = run_dim_reduction(X_train, X_test, x_cols, RE_cols_prefix, d, 'pca-ignore',\n",
    "            thresh, epochs, qs, q_spatial, n_sig2bs, n_sig2bs_spatial, est_cors, batch_size, patience, n_neurons, n_neurons_re, dropout,\n",
    "            activation, mode, beta, re_prior, kernel_root, pred_unknown_clusters, max_spatial_locs, time2measure_dict, verbose, U, B_list)\n",
    "    print('   finished pca-ignore, mse: %.3f' % mse_ig)\n",
    "    mse_vaeig, _, _, n_epochs_vaeig, time_vaeig, losses_vaeig = run_dim_reduction(X_train, X_test, x_cols, RE_cols_prefix, d, 'vae-ignore',\n",
    "            thresh, epochs, qs, q_spatial, n_sig2bs, n_sig2bs_spatial, est_cors, batch_size, patience, n_neurons, n_neurons_re, dropout,\n",
    "            activation, mode, beta, re_prior, kernel_root, pred_unknown_clusters, max_spatial_locs, time2measure_dict, verbose, U, B_list)\n",
    "    print('   finished vae-ignore, mse: %.3f' % mse_vaeig)\n",
    "    mse_vaeem, _, _, n_epochs_vaeem, time_vaeem, losses_vaeem = run_dim_reduction(X_train, X_test, x_cols, RE_cols_prefix, d, 'vae-embed',\n",
    "            thresh, epochs, qs, q_spatial, n_sig2bs, n_sig2bs_spatial, est_cors, batch_size, patience, n_neurons, n_neurons_re, dropout,\n",
    "            activation, mode, beta, re_prior, kernel_root, pred_unknown_clusters, max_spatial_locs, time2measure_dict, verbose, U, B_list)\n",
    "    print('   finished vae-embed, mse: %.3f' % mse_vaeem)\n",
    "    res.loc[next(counter)] = [d, beta, re_prior, i, 'lmmvae', mse_lmmvae, sigmas[2][0], n_epochs_lmmvae, time_lmmvae] + losses_lmmvae\n",
    "    res.loc[next(counter)] = [d, beta, re_prior, i, 'pca-ignore', mse_ig, np.nan, n_epochs_ig, time_ig] + losses_ig\n",
    "    res.loc[next(counter)] = [d, beta, re_prior, i, 'vae-ignore', mse_vaeig, np.nan, n_epochs_vaeig, time_vaeig] + losses_vaeig\n",
    "    res.loc[next(counter)] = [d, beta, re_prior, i, 'vae-em', mse_vaeem, np.nan, n_epochs_vaeem, time_vaeem] + losses_vaeem\n",
    "    res.to_csv('res_cars_random.csv')"
   ]
  },
  {
   "cell_type": "code",
   "execution_count": 13,
   "metadata": {},
   "outputs": [],
   "source": [
    "betas = [0.01]\n",
    "ds = [1, 2, 5]\n",
    "re_priors = [0.01]"
   ]
  },
  {
   "cell_type": "code",
   "execution_count": null,
   "metadata": {},
   "outputs": [],
   "source": [
    "# Unknown mode\n",
    "if pred_unknown_clusters:\n",
    "  for beta in betas:\n",
    "    for d in ds:\n",
    "      for re_prior in re_priors:\n",
    "        print(f'beta: {beta}, d: {d}, re_prior: {re_prior}:')\n",
    "        cluster_q = q_spatial\n",
    "        for i, (train_clusters, test_clusters) in enumerate(kf.split(range(cluster_q))):\n",
    "          print('  iteration %d' % i)\n",
    "          X_train, X_test = X[X['z0'].isin(train_clusters)].copy(), X[X['z0'].isin(test_clusters)].copy()\n",
    "          iterate_reg_types(X_train, X_test, counter, d, beta, re_prior, i, verbose=False)"
   ]
  },
  {
   "cell_type": "code",
   "execution_count": 15,
   "metadata": {},
   "outputs": [],
   "source": [
    "# Random mode\n",
    "for beta in betas:\n",
    "  for d in ds:\n",
    "    for re_prior in re_priors:\n",
    "      print(f'beta: {beta}, d: {d}, re_prior: {re_prior}:')\n",
    "      for i, (train_index, test_index) in enumerate(kf.split(X)):\n",
    "        print('  iteration %d' % i)\n",
    "        X_train, X_test = X.loc[train_index].copy(), X.loc[test_index].copy()\n",
    "        iterate_reg_types(X_train, X_test, counter, d, beta, re_prior, i, verbose=False)"
   ]
  }
 ],
 "metadata": {
  "kernelspec": {
   "display_name": "Python 3",
   "language": "python",
   "name": "python3"
  },
  "language_info": {
   "codemirror_mode": {
    "name": "ipython",
    "version": 3
   },
   "file_extension": ".py",
   "mimetype": "text/x-python",
   "name": "python",
   "nbconvert_exporter": "python",
   "pygments_lexer": "ipython3",
   "version": "3.8.7"
  },
  "orig_nbformat": 4,
  "vscode": {
   "interpreter": {
    "hash": "58232888a71497b14c2600f41783e14bf8a4ed364d880e61f45b8308dbbef17d"
   }
  }
 },
 "nbformat": 4,
 "nbformat_minor": 2
}
